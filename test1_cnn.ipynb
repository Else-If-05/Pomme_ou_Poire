{
  "nbformat": 4,
  "nbformat_minor": 0,
  "metadata": {
    "colab": {
      "provenance": [],
      "gpuType": "A100",
      "authorship_tag": "ABX9TyPLGup9FZmGOJNWz0/rr5+f",
      "include_colab_link": true
    },
    "kernelspec": {
      "name": "python3",
      "display_name": "Python 3"
    },
    "language_info": {
      "name": "python"
    },
    "accelerator": "GPU"
  },
  "cells": [
    {
      "cell_type": "markdown",
      "metadata": {
        "id": "view-in-github",
        "colab_type": "text"
      },
      "source": [
        "<a href=\"https://colab.research.google.com/github/Else-If-05/Pomme_ou_Poire/blob/main/test1_cnn.ipynb\" target=\"_parent\"><img src=\"https://colab.research.google.com/assets/colab-badge.svg\" alt=\"Open In Colab\"/></a>"
      ]
    },
    {
      "cell_type": "code",
      "source": [
        "# Import dataset\n",
        "import pathlib\n",
        "import os\n",
        "import zipfile\n",
        "import tensorflow as tf\n",
        "\n",
        "# Télécharger les datasets\n",
        "pear_data_dir = tf.keras.utils.get_file(\n",
        "    \"pear.zip\",\n",
        "    \"https://github.com/Else-If-05/Pomme_ou_Poire/raw/main/datasets/pear.zip\",\n",
        "    extract=False\n",
        ")\n",
        "\n",
        "apple_data_dir = tf.keras.utils.get_file(\n",
        "    \"apple.zip\",\n",
        "    \"https://github.com/Else-If-05/Pomme_ou_Poire/raw/main/datasets/apple.zip\",\n",
        "    extract=False\n",
        ")\n",
        "\n",
        "# Créer le dossier datasets s'il n'existe pas\n",
        "os.makedirs('/content/datasets', exist_ok=True)\n",
        "\n",
        "# Dézipper les datasets dans le dossier /content/datasets\n",
        "with zipfile.ZipFile(pear_data_dir, 'r') as zip_ref:\n",
        "    zip_ref.extractall('/content/datasets')\n",
        "with zipfile.ZipFile(apple_data_dir, 'r') as zip_ref:\n",
        "    zip_ref.extractall('/content/datasets')\n",
        "\n",
        "# Pointer vers le bon répertoire (à ajuster si le zip crée des sous-dossiers)\n",
        "data_dir = pathlib.Path('/content/datasets')\n",
        "print(data_dir)\n",
        "print(os.path.abspath(data_dir))\n"
      ],
      "metadata": {
        "colab": {
          "base_uri": "https://localhost:8080/"
        },
        "id": "uuXH1fHfm7jE",
        "outputId": "55212185-850b-4dd5-d1a8-55a9da44673d"
      },
      "execution_count": 10,
      "outputs": [
        {
          "output_type": "stream",
          "name": "stdout",
          "text": [
            "Downloading data from https://github.com/Else-If-05/Pomme_ou_Poire/raw/main/datasets/apple.zip\n",
            "\u001b[1m5485097/5485097\u001b[0m \u001b[32m━━━━━━━━━━━━━━━━━━━━\u001b[0m\u001b[37m\u001b[0m \u001b[1m0s\u001b[0m 0us/step\n",
            "/content/datasets\n",
            "/content/datasets\n"
          ]
        }
      ]
    },
    {
      "cell_type": "code",
      "source": [
        "import pathlib\n",
        "\n",
        "data_dir = pathlib.Path('/content/datasets')\n",
        "image_extensions = ['*.jpg', '*.jpeg', '*.png']\n",
        "\n",
        "# Compter le nombre total d'images\n",
        "image_count = 0\n",
        "for ext in image_extensions:\n",
        "    image_count += len(list(data_dir.rglob(ext)))\n",
        "\n",
        "print(f\"Nombre total d'images : {image_count}\")\n",
        "\n",
        "# Compter les images de poires\n",
        "pear_data_dir = pathlib.Path('/content/datasets/pear')\n",
        "pear_image_count = 0\n",
        "for ext in image_extensions:\n",
        "    pear_image_count += len(list(pear_data_dir.rglob(ext)))\n",
        "\n",
        "print(f\"Nombre total d'images de poires : {pear_image_count}\")\n",
        "\n",
        "# Compter les images de pommes\n",
        "apple_data_dir = pathlib.Path('/content/datasets/Apple')\n",
        "apple_image_count = 0\n",
        "for ext in image_extensions:\n",
        "    apple_image_count += len(list(apple_data_dir.rglob(ext)))\n",
        "\n",
        "print(f\"Nombre total d'images de pommes : {apple_image_count}\")\n"
      ],
      "metadata": {
        "colab": {
          "base_uri": "https://localhost:8080/"
        },
        "id": "0-CgHIF_xeU7",
        "outputId": "0a07c600-d4a4-4709-e344-09fd342d20b6"
      },
      "execution_count": 14,
      "outputs": [
        {
          "output_type": "stream",
          "name": "stdout",
          "text": [
            "Nombre total d'images : 5951\n",
            "Nombre total d'images de poires : 5252\n",
            "Nombre total d'images de pommes : 699\n"
          ]
        }
      ]
    }
  ]
}